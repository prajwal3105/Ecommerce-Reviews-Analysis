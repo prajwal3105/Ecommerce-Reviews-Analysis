{
 "cells": [
  {
   "cell_type": "markdown",
   "metadata": {},
   "source": [
    "# Implementation"
   ]
  },
  {
   "cell_type": "markdown",
   "metadata": {},
   "source": [
    "### Importing Libraries "
   ]
  },
  {
   "cell_type": "code",
   "execution_count": 2,
   "metadata": {},
   "outputs": [],
   "source": [
    "import pandas as pd\n",
    "import numpy as np\n",
    "import matplotlib.pyplot as plt\n",
    "import seaborn as sns\n",
    "%matplotlib inline\n",
    "import warnings\n",
    "import time"
   ]
  },
  {
   "cell_type": "code",
   "execution_count": 3,
   "metadata": {},
   "outputs": [],
   "source": [
    "#Importing data from CVS\n",
    "df = pd.read_csv('Womens_Clothing_E_Commerce_Reviews.csv')"
   ]
  },
  {
   "cell_type": "code",
   "execution_count": 4,
   "metadata": {},
   "outputs": [
    {
     "data": {
      "text/html": [
       "<div>\n",
       "<style scoped>\n",
       "    .dataframe tbody tr th:only-of-type {\n",
       "        vertical-align: middle;\n",
       "    }\n",
       "\n",
       "    .dataframe tbody tr th {\n",
       "        vertical-align: top;\n",
       "    }\n",
       "\n",
       "    .dataframe thead th {\n",
       "        text-align: right;\n",
       "    }\n",
       "</style>\n",
       "<table border=\"1\" class=\"dataframe\">\n",
       "  <thead>\n",
       "    <tr style=\"text-align: right;\">\n",
       "      <th></th>\n",
       "      <th>Unnamed: 0</th>\n",
       "      <th>Clothing ID</th>\n",
       "      <th>Age</th>\n",
       "      <th>Title</th>\n",
       "      <th>Review Text</th>\n",
       "      <th>Rating</th>\n",
       "      <th>Recommended IND</th>\n",
       "      <th>Positive Feedback Count</th>\n",
       "      <th>Division Name</th>\n",
       "      <th>Department Name</th>\n",
       "      <th>Class Name</th>\n",
       "    </tr>\n",
       "  </thead>\n",
       "  <tbody>\n",
       "    <tr>\n",
       "      <th>0</th>\n",
       "      <td>0</td>\n",
       "      <td>767</td>\n",
       "      <td>33</td>\n",
       "      <td>NaN</td>\n",
       "      <td>Absolutely wonderful - silky and sexy and comf...</td>\n",
       "      <td>4</td>\n",
       "      <td>1</td>\n",
       "      <td>0</td>\n",
       "      <td>Initmates</td>\n",
       "      <td>Intimate</td>\n",
       "      <td>Intimates</td>\n",
       "    </tr>\n",
       "    <tr>\n",
       "      <th>1</th>\n",
       "      <td>1</td>\n",
       "      <td>1080</td>\n",
       "      <td>34</td>\n",
       "      <td>NaN</td>\n",
       "      <td>Love this dress!  it's sooo pretty.  i happene...</td>\n",
       "      <td>5</td>\n",
       "      <td>1</td>\n",
       "      <td>4</td>\n",
       "      <td>General</td>\n",
       "      <td>Dresses</td>\n",
       "      <td>Dresses</td>\n",
       "    </tr>\n",
       "    <tr>\n",
       "      <th>2</th>\n",
       "      <td>2</td>\n",
       "      <td>1077</td>\n",
       "      <td>60</td>\n",
       "      <td>Some major design flaws</td>\n",
       "      <td>I had such high hopes for this dress and reall...</td>\n",
       "      <td>3</td>\n",
       "      <td>0</td>\n",
       "      <td>0</td>\n",
       "      <td>General</td>\n",
       "      <td>Dresses</td>\n",
       "      <td>Dresses</td>\n",
       "    </tr>\n",
       "    <tr>\n",
       "      <th>3</th>\n",
       "      <td>3</td>\n",
       "      <td>1049</td>\n",
       "      <td>50</td>\n",
       "      <td>My favorite buy!</td>\n",
       "      <td>I love, love, love this jumpsuit. it's fun, fl...</td>\n",
       "      <td>5</td>\n",
       "      <td>1</td>\n",
       "      <td>0</td>\n",
       "      <td>General Petite</td>\n",
       "      <td>Bottoms</td>\n",
       "      <td>Pants</td>\n",
       "    </tr>\n",
       "    <tr>\n",
       "      <th>4</th>\n",
       "      <td>4</td>\n",
       "      <td>847</td>\n",
       "      <td>47</td>\n",
       "      <td>Flattering shirt</td>\n",
       "      <td>This shirt is very flattering to all due to th...</td>\n",
       "      <td>5</td>\n",
       "      <td>1</td>\n",
       "      <td>6</td>\n",
       "      <td>General</td>\n",
       "      <td>Tops</td>\n",
       "      <td>Blouses</td>\n",
       "    </tr>\n",
       "    <tr>\n",
       "      <th>...</th>\n",
       "      <td>...</td>\n",
       "      <td>...</td>\n",
       "      <td>...</td>\n",
       "      <td>...</td>\n",
       "      <td>...</td>\n",
       "      <td>...</td>\n",
       "      <td>...</td>\n",
       "      <td>...</td>\n",
       "      <td>...</td>\n",
       "      <td>...</td>\n",
       "      <td>...</td>\n",
       "    </tr>\n",
       "    <tr>\n",
       "      <th>23481</th>\n",
       "      <td>23481</td>\n",
       "      <td>1104</td>\n",
       "      <td>34</td>\n",
       "      <td>Great dress for many occasions</td>\n",
       "      <td>I was very happy to snag this dress at such a ...</td>\n",
       "      <td>5</td>\n",
       "      <td>1</td>\n",
       "      <td>0</td>\n",
       "      <td>General Petite</td>\n",
       "      <td>Dresses</td>\n",
       "      <td>Dresses</td>\n",
       "    </tr>\n",
       "    <tr>\n",
       "      <th>23482</th>\n",
       "      <td>23482</td>\n",
       "      <td>862</td>\n",
       "      <td>48</td>\n",
       "      <td>Wish it was made of cotton</td>\n",
       "      <td>It reminds me of maternity clothes. soft, stre...</td>\n",
       "      <td>3</td>\n",
       "      <td>1</td>\n",
       "      <td>0</td>\n",
       "      <td>General Petite</td>\n",
       "      <td>Tops</td>\n",
       "      <td>Knits</td>\n",
       "    </tr>\n",
       "    <tr>\n",
       "      <th>23483</th>\n",
       "      <td>23483</td>\n",
       "      <td>1104</td>\n",
       "      <td>31</td>\n",
       "      <td>Cute, but see through</td>\n",
       "      <td>This fit well, but the top was very see throug...</td>\n",
       "      <td>3</td>\n",
       "      <td>0</td>\n",
       "      <td>1</td>\n",
       "      <td>General Petite</td>\n",
       "      <td>Dresses</td>\n",
       "      <td>Dresses</td>\n",
       "    </tr>\n",
       "    <tr>\n",
       "      <th>23484</th>\n",
       "      <td>23484</td>\n",
       "      <td>1084</td>\n",
       "      <td>28</td>\n",
       "      <td>Very cute dress, perfect for summer parties an...</td>\n",
       "      <td>I bought this dress for a wedding i have this ...</td>\n",
       "      <td>3</td>\n",
       "      <td>1</td>\n",
       "      <td>2</td>\n",
       "      <td>General</td>\n",
       "      <td>Dresses</td>\n",
       "      <td>Dresses</td>\n",
       "    </tr>\n",
       "    <tr>\n",
       "      <th>23485</th>\n",
       "      <td>23485</td>\n",
       "      <td>1104</td>\n",
       "      <td>52</td>\n",
       "      <td>Please make more like this one!</td>\n",
       "      <td>This dress in a lovely platinum is feminine an...</td>\n",
       "      <td>5</td>\n",
       "      <td>1</td>\n",
       "      <td>22</td>\n",
       "      <td>General Petite</td>\n",
       "      <td>Dresses</td>\n",
       "      <td>Dresses</td>\n",
       "    </tr>\n",
       "  </tbody>\n",
       "</table>\n",
       "<p>23486 rows × 11 columns</p>\n",
       "</div>"
      ],
      "text/plain": [
       "       Unnamed: 0  Clothing ID  Age  \\\n",
       "0               0          767   33   \n",
       "1               1         1080   34   \n",
       "2               2         1077   60   \n",
       "3               3         1049   50   \n",
       "4               4          847   47   \n",
       "...           ...          ...  ...   \n",
       "23481       23481         1104   34   \n",
       "23482       23482          862   48   \n",
       "23483       23483         1104   31   \n",
       "23484       23484         1084   28   \n",
       "23485       23485         1104   52   \n",
       "\n",
       "                                                   Title  \\\n",
       "0                                                    NaN   \n",
       "1                                                    NaN   \n",
       "2                                Some major design flaws   \n",
       "3                                       My favorite buy!   \n",
       "4                                       Flattering shirt   \n",
       "...                                                  ...   \n",
       "23481                     Great dress for many occasions   \n",
       "23482                         Wish it was made of cotton   \n",
       "23483                              Cute, but see through   \n",
       "23484  Very cute dress, perfect for summer parties an...   \n",
       "23485                    Please make more like this one!   \n",
       "\n",
       "                                             Review Text  Rating  \\\n",
       "0      Absolutely wonderful - silky and sexy and comf...       4   \n",
       "1      Love this dress!  it's sooo pretty.  i happene...       5   \n",
       "2      I had such high hopes for this dress and reall...       3   \n",
       "3      I love, love, love this jumpsuit. it's fun, fl...       5   \n",
       "4      This shirt is very flattering to all due to th...       5   \n",
       "...                                                  ...     ...   \n",
       "23481  I was very happy to snag this dress at such a ...       5   \n",
       "23482  It reminds me of maternity clothes. soft, stre...       3   \n",
       "23483  This fit well, but the top was very see throug...       3   \n",
       "23484  I bought this dress for a wedding i have this ...       3   \n",
       "23485  This dress in a lovely platinum is feminine an...       5   \n",
       "\n",
       "       Recommended IND  Positive Feedback Count   Division Name  \\\n",
       "0                    1                        0       Initmates   \n",
       "1                    1                        4         General   \n",
       "2                    0                        0         General   \n",
       "3                    1                        0  General Petite   \n",
       "4                    1                        6         General   \n",
       "...                ...                      ...             ...   \n",
       "23481                1                        0  General Petite   \n",
       "23482                1                        0  General Petite   \n",
       "23483                0                        1  General Petite   \n",
       "23484                1                        2         General   \n",
       "23485                1                       22  General Petite   \n",
       "\n",
       "      Department Name Class Name  \n",
       "0            Intimate  Intimates  \n",
       "1             Dresses    Dresses  \n",
       "2             Dresses    Dresses  \n",
       "3             Bottoms      Pants  \n",
       "4                Tops    Blouses  \n",
       "...               ...        ...  \n",
       "23481         Dresses    Dresses  \n",
       "23482            Tops      Knits  \n",
       "23483         Dresses    Dresses  \n",
       "23484         Dresses    Dresses  \n",
       "23485         Dresses    Dresses  \n",
       "\n",
       "[23486 rows x 11 columns]"
      ]
     },
     "execution_count": 4,
     "metadata": {},
     "output_type": "execute_result"
    }
   ],
   "source": [
    "df"
   ]
  },
  {
   "cell_type": "code",
   "execution_count": 5,
   "metadata": {},
   "outputs": [],
   "source": [
    "#Leaving of first column as we have index\n",
    "df.drop('Unnamed: 0', axis=1,inplace=True)"
   ]
  },
  {
   "cell_type": "code",
   "execution_count": 6,
   "metadata": {},
   "outputs": [],
   "source": [
    "#Removing rows with nan\n",
    "df.dropna(subset=['Review Text','Division Name','Department Name','Class Name'],inplace=True)"
   ]
  },
  {
   "cell_type": "code",
   "execution_count": 7,
   "metadata": {},
   "outputs": [],
   "source": [
    "df.columns = ['Clothing_Id', 'Age', 'Title', 'Review', 'Rating', 'Recommended_IND', 'Positive_Feedback_Count','Division_Name', 'Department_Name', 'Class_Name']"
   ]
  },
  {
   "cell_type": "code",
   "execution_count": 8,
   "metadata": {},
   "outputs": [
    {
     "data": {
      "text/html": [
       "<div>\n",
       "<style scoped>\n",
       "    .dataframe tbody tr th:only-of-type {\n",
       "        vertical-align: middle;\n",
       "    }\n",
       "\n",
       "    .dataframe tbody tr th {\n",
       "        vertical-align: top;\n",
       "    }\n",
       "\n",
       "    .dataframe thead th {\n",
       "        text-align: right;\n",
       "    }\n",
       "</style>\n",
       "<table border=\"1\" class=\"dataframe\">\n",
       "  <thead>\n",
       "    <tr style=\"text-align: right;\">\n",
       "      <th></th>\n",
       "      <th>Clothing_Id</th>\n",
       "      <th>Age</th>\n",
       "      <th>Title</th>\n",
       "      <th>Review</th>\n",
       "      <th>Rating</th>\n",
       "      <th>Recommended_IND</th>\n",
       "      <th>Positive_Feedback_Count</th>\n",
       "      <th>Division_Name</th>\n",
       "      <th>Department_Name</th>\n",
       "      <th>Class_Name</th>\n",
       "    </tr>\n",
       "  </thead>\n",
       "  <tbody>\n",
       "    <tr>\n",
       "      <th>0</th>\n",
       "      <td>767</td>\n",
       "      <td>33</td>\n",
       "      <td>NaN</td>\n",
       "      <td>Absolutely wonderful - silky and sexy and comf...</td>\n",
       "      <td>4</td>\n",
       "      <td>1</td>\n",
       "      <td>0</td>\n",
       "      <td>Initmates</td>\n",
       "      <td>Intimate</td>\n",
       "      <td>Intimates</td>\n",
       "    </tr>\n",
       "    <tr>\n",
       "      <th>1</th>\n",
       "      <td>1080</td>\n",
       "      <td>34</td>\n",
       "      <td>NaN</td>\n",
       "      <td>Love this dress!  it's sooo pretty.  i happene...</td>\n",
       "      <td>5</td>\n",
       "      <td>1</td>\n",
       "      <td>4</td>\n",
       "      <td>General</td>\n",
       "      <td>Dresses</td>\n",
       "      <td>Dresses</td>\n",
       "    </tr>\n",
       "    <tr>\n",
       "      <th>2</th>\n",
       "      <td>1077</td>\n",
       "      <td>60</td>\n",
       "      <td>Some major design flaws</td>\n",
       "      <td>I had such high hopes for this dress and reall...</td>\n",
       "      <td>3</td>\n",
       "      <td>0</td>\n",
       "      <td>0</td>\n",
       "      <td>General</td>\n",
       "      <td>Dresses</td>\n",
       "      <td>Dresses</td>\n",
       "    </tr>\n",
       "  </tbody>\n",
       "</table>\n",
       "</div>"
      ],
      "text/plain": [
       "   Clothing_Id  Age                    Title  \\\n",
       "0          767   33                      NaN   \n",
       "1         1080   34                      NaN   \n",
       "2         1077   60  Some major design flaws   \n",
       "\n",
       "                                              Review  Rating  Recommended_IND  \\\n",
       "0  Absolutely wonderful - silky and sexy and comf...       4                1   \n",
       "1  Love this dress!  it's sooo pretty.  i happene...       5                1   \n",
       "2  I had such high hopes for this dress and reall...       3                0   \n",
       "\n",
       "   Positive_Feedback_Count Division_Name Department_Name Class_Name  \n",
       "0                        0     Initmates        Intimate  Intimates  \n",
       "1                        4       General         Dresses    Dresses  \n",
       "2                        0       General         Dresses    Dresses  "
      ]
     },
     "execution_count": 8,
     "metadata": {},
     "output_type": "execute_result"
    }
   ],
   "source": [
    "df.head(3)"
   ]
  },
  {
   "cell_type": "code",
   "execution_count": 9,
   "metadata": {},
   "outputs": [
    {
     "name": "stdout",
     "output_type": "stream",
     "text": [
      "Clothing_Id :1172\n",
      "Age :77\n",
      "Rating :5\n",
      "Recommended_IND :2\n",
      "Positive_Feedback_Count :82\n",
      "Division_Name :3{'General Petite', 'General', 'Initmates'}\n",
      "Department_Name :6{'Bottoms', 'Intimate', 'Dresses', 'Jackets', 'Tops', 'Trend'}\n",
      "Class_Name :20\n"
     ]
    }
   ],
   "source": [
    "# FInding number of unique things in each column\n",
    "print('Clothing_Id :' + str(len(list(set(df['Clothing_Id'])))))\n",
    "print('Age :' + str(len(list(set(df['Age'])))))\n",
    "print('Rating :' + str(len(list(set(df['Rating'])))))\n",
    "print('Recommended_IND :' + str(len(list(set(df['Recommended_IND'])))))\n",
    "print('Positive_Feedback_Count :' + str(len(list(set(df['Positive_Feedback_Count'])))))\n",
    "print('Division_Name :' + str(len(list(set(df['Division_Name'])))) + str(set(df['Division_Name'])))\n",
    "print('Department_Name :' + str(len(list(set(df['Department_Name'])))) +  str(set(df['Department_Name'])))\n",
    "print('Class_Name :' + str(len(list(set(df['Class_Name'])))))"
   ]
  },
  {
   "cell_type": "markdown",
   "metadata": {},
   "source": [
    "## Analysis 1: Department and Division v.s Review count"
   ]
  },
  {
   "cell_type": "code",
   "execution_count": 10,
   "metadata": {},
   "outputs": [
    {
     "data": {
      "image/png": "[encoded data removed]",
      "text/plain": [
       "<Figure size 1080x288 with 2 Axes>"
      ]
     },
     "metadata": {},
     "output_type": "display_data"
    }
   ],
   "source": [
    "import numpy as np\n",
    "import matplotlib.pyplot as plt\n",
    "import seaborn as sns\n",
    "%matplotlib inline\n",
    "import warnings\n",
    "warnings.filterwarnings('ignore')\n",
    "sns.set_style('dark')\n",
    "f, axes = plt.subplots (1,2, figsize=(15,4))\n",
    "\n",
    "x = ['Jackets', 'Bottoms', 'Dresses', 'Trend', 'Tops', 'Intimate']\n",
    "y = [df.Department_Name[(df['Department_Name']=='Jackets')].count(),\n",
    "     df.Department_Name[(df['Department_Name']=='Bottoms')].count(),\n",
    "     df.Department_Name[(df['Department_Name']=='Dresses')].count(),\n",
    "     df.Department_Name[(df['Department_Name']=='Trend')].count(),\n",
    "     df.Department_Name[(df['Department_Name']=='Tops')].count(),\n",
    "     df.Department_Name[(df['Department_Name']=='Intimate')].count(), ]\n",
    "\n",
    "v1= sns.barplot(x,y,palette='magma', ax=axes[0])\n",
    "v1.set(xlabel='Department Name',ylabel='Number of Reviews for all Division Names')\n",
    "\n",
    "for r in v1.patches:\n",
    "             v1.annotate(\"%.f\" % r.get_height(), (r.get_x() + r.get_width() / 2., r.get_height()),\n",
    "                 ha='center', va='center', fontsize=11, color='black', xytext=(0, 20),\n",
    "                 textcoords='offset points')\n",
    "\n",
    "p = [df.Division_Name[(df['Division_Name']=='General')].count(), df.Division_Name[(df['Division_Name']=='Initmates')].count(), df.Division_Name[(df['Division_Name']=='General Petite')].count() ]\n",
    "q = ['General', 'Initmates', 'General Petite']\n",
    "\n",
    "plt.title('Division Name')\n",
    "plt.pie(p, labels=q, startangle=180, autopct='%.2f%%')\n",
    "plt.ioff()"
   ]
  },
  {
   "cell_type": "markdown",
   "metadata": {},
   "source": [
    "## Analysis 2: Department and Division v.s Positive Feedback Count"
   ]
  },
  {
   "cell_type": "code",
   "execution_count": 11,
   "metadata": {},
   "outputs": [
    {
     "data": {
      "image/png": "[encoded data removed]",
      "text/plain": [
       "<Figure size 1080x360 with 2 Axes>"
      ]
     },
     "metadata": {},
     "output_type": "display_data"
    }
   ],
   "source": [
    "f, axes = plt.subplots (1,2, figsize=(15,5))\n",
    "\n",
    "#stripplot Number of positive feedbacks given by people for different Division name giving different ratings\n",
    "v1= sns.stripplot(x='Division_Name',y='Positive_Feedback_Count',data=df,hue='Rating',dodge=True, size=4, ax=axes[0])\n",
    "v1.set(ylim=(0, 200))\n",
    "v1.set(xlabel='Division Name',ylabel='Positive Feedback Count')\n",
    "\n",
    "#stripplot Number of positive feedbacks given by people for different Department Name giving different ratings\n",
    "v2= sns.stripplot(y='Positive_Feedback_Count' , x='Department_Name',data=df,hue='Rating',dodge=True,size=4, ax=axes[1])\n",
    "plt.legend(title='User Rating(1-5)',bbox_to_anchor=(1.29, 1))\n",
    "v2.set(ylim=(0, 200))\n",
    "v2.set(xlabel='Department Name',ylabel='Positive Feedback Count')\n",
    "\n",
    "plt.ioff()"
   ]
  },
  {
   "cell_type": "markdown",
   "metadata": {},
   "source": [
    "### Creating Rating Class"
   ]
  },
  {
   "cell_type": "code",
   "execution_count": 12,
   "metadata": {},
   "outputs": [],
   "source": [
    "data_class = df"
   ]
  },
  {
   "cell_type": "code",
   "execution_count": 13,
   "metadata": {},
   "outputs": [],
   "source": [
    "data_class['Class'] = 'Bad'\n",
    "data_class.loc[data_class.Rating>3,['Class']]  = 'Good'\n",
    "data_class.drop(['Title', 'Age','Rating'], axis=1, inplace=True)"
   ]
  },
  {
   "cell_type": "markdown",
   "metadata": {},
   "source": [
    "## Applying Natural Language Processing"
   ]
  },
  {
   "cell_type": "code",
   "execution_count": 14,
   "metadata": {},
   "outputs": [],
   "source": [
    "model_data = data_class\n",
    "model_data.drop(['Clothing_Id','Recommended_IND','Positive_Feedback_Count','Division_Name','Department_Name','Class_Name'], axis=1, inplace=True)"
   ]
  },
  {
   "cell_type": "code",
   "execution_count": 15,
   "metadata": {},
   "outputs": [],
   "source": [
    "model_data['Processed_review'] = np.nan"
   ]
  },
  {
   "cell_type": "code",
   "execution_count": 16,
   "metadata": {},
   "outputs": [],
   "source": [
    "model_data = model_data.reset_index()\n",
    "model_data.drop(['index'], axis=1,inplace=True)"
   ]
  },
  {
   "cell_type": "code",
   "execution_count": 17,
   "metadata": {},
   "outputs": [],
   "source": [
    "import nltk\n",
    "from nltk.tokenize import sent_tokenize, word_tokenize\n",
    "from nltk.corpus import stopwords\n",
    "from nltk.stem import WordNetLemmatizer\n",
    "from nltk.stem import PorterStemmer, SnowballStemmer\n",
    "import string\n",
    "\n",
    "ps = PorterStemmer()\n",
    "sno = SnowballStemmer('english') \n",
    "lemmatizer = WordNetLemmatizer()\n",
    "stop_words = set(stopwords.words('english'))"
   ]
  },
  {
   "cell_type": "code",
   "execution_count": 18,
   "metadata": {},
   "outputs": [],
   "source": [
    "# CLeaning and add it to the DataFrame\n",
    "def process(i):\n",
    "    orginal_sent = model_data['Review'][i]\n",
    "    tokenized_sent = word_tokenize(orginal_sent)\n",
    "    stop_sent = [w for w in tokenized_sent if w not in stop_words and w not in string.punctuation]\n",
    "    lemmatized_sent = [lemmatizer.lemmatize(w) for w in stop_sent]\n",
    "    model_data['Processed_review'][i] = ' '.join(lemmatized_sent)\n",
    "\n",
    "for i in range(len(model_data['Review'])):\n",
    "    try:\n",
    "        process(i)\n",
    "    except:\n",
    "        pass"
   ]
  },
  {
   "cell_type": "markdown",
   "metadata": {},
   "source": [
    "### Creating Bag of Words"
   ]
  },
  {
   "cell_type": "code",
   "execution_count": 19,
   "metadata": {},
   "outputs": [],
   "source": [
    "from sklearn.model_selection import train_test_split\n",
    "from sklearn.feature_extraction.text import TfidfVectorizer\n",
    "from sklearn import naive_bayes\n",
    "from sklearn.metrics import accuracy_score\n",
    "from sklearn.ensemble import RandomForestClassifier\n",
    "from sklearn import tree\n",
    "from sklearn import svm\n",
    "import sklearn"
   ]
  },
  {
   "cell_type": "code",
   "execution_count": 20,
   "metadata": {},
   "outputs": [],
   "source": [
    "# Vectorizing and defining x and y\n",
    "vectorize = TfidfVectorizer(use_idf = True, lowercase=True, strip_accents='ascii', stop_words=stop_words,max_features=4000)\n",
    "y = model_data.Class\n",
    "x = vectorize.fit_transform(model_data.Processed_review)"
   ]
  },
  {
   "cell_type": "markdown",
   "metadata": {},
   "source": [
    "### Naive Bayes (BernoulliNB)"
   ]
  },
  {
   "cell_type": "code",
   "execution_count": 21,
   "metadata": {},
   "outputs": [],
   "source": [
    "def model_BernoulliNB():\n",
    "    start_time = time.time()\n",
    "    # train test split\n",
    "    x_train, x_test, y_train, y_test = train_test_split(x,y, random_state=421,test_size=0.2)\n",
    "    # Training the model\n",
    "    clf = naive_bayes.BernoulliNB()  \n",
    "    clf.fit(x_train, y_train)\n",
    "    # Testing\n",
    "    y_pred = clf.predict(x_test)\n",
    "    return accuracy_score(y_test,y_pred) * 100, time.time() - start_time"
   ]
  },
  {
   "cell_type": "markdown",
   "metadata": {},
   "source": [
    "### Random Forest"
   ]
  },
  {
   "cell_type": "code",
   "execution_count": 22,
   "metadata": {},
   "outputs": [],
   "source": [
    "def model_RandomForestClassifier():\n",
    "    start_time = time.time()\n",
    "    # train test split\n",
    "    x_train, x_test, y_train, y_test = train_test_split(x,y, random_state=421)\n",
    "    # Training the model\n",
    "    clf = RandomForestClassifier()   \n",
    "    clf.fit(x_train, y_train)\n",
    "    # Testing\n",
    "    y_pred = clf.predict(x_test)\n",
    "    return (accuracy_score(y_test,y_pred) * 100), (time.time() - start_time)"
   ]
  },
  {
   "cell_type": "markdown",
   "metadata": {},
   "source": [
    "### Decision Tree"
   ]
  },
  {
   "cell_type": "code",
   "execution_count": 23,
   "metadata": {},
   "outputs": [],
   "source": [
    " def DecisionTreeClassifier():\n",
    "    start_time = time.time()\n",
    "    # train test split\n",
    "    x_train, x_test, y_train, y_test = train_test_split(x,y, random_state=421)\n",
    "    # Training the model\n",
    "    clf = tree.DecisionTreeClassifier()   \n",
    "    clf.fit(x_train, y_train)\n",
    "    # Testing\n",
    "    y_pred = clf.predict(x_test)\n",
    "    return (accuracy_score(y_test,y_pred) * 100), (time.time() - start_time)"
   ]
  },
  {
   "cell_type": "markdown",
   "metadata": {},
   "source": [
    "### SVM (linear kernel)"
   ]
  },
  {
   "cell_type": "code",
   "execution_count": 31,
   "metadata": {},
   "outputs": [],
   "source": [
    "def model_SVM_Linear():\n",
    "    start_time = time.time()\n",
    "    # train test split\n",
    "    x_train, x_test, y_train, y_test = train_test_split(x,y, random_state=421)\n",
    "    # Training the model\n",
    "    clf = svm.SVC(kernel='linear')   \n",
    "    clf.fit(x_train, y_train)\n",
    "    # Testing\n",
    "    y_pred = clf.predict(x_test)\n",
    "    return (accuracy_score(y_test,y_pred) * 100), (time.time() - start_time)"
   ]
  },
  {
   "cell_type": "markdown",
   "metadata": {},
   "source": [
    "### Logistic Regression"
   ]
  },
  {
   "cell_type": "code",
   "execution_count": 32,
   "metadata": {},
   "outputs": [],
   "source": [
    "def model_LogisticRegression():\n",
    "    start_time = time.time()\n",
    "    # train test split\n",
    "    x_train, x_test, y_train, y_test = train_test_split(x,y)\n",
    "    # Training the model\n",
    "    clf = sklearn.linear_model.LogisticRegression()   \n",
    "    clf.fit(x_train, y_train)\n",
    "    # Testing\n",
    "    y_pred = clf.predict(x_test)\n",
    "    return (accuracy_score(y_test,y_pred) * 100), (time.time() - start_time)"
   ]
  },
  {
   "cell_type": "markdown",
   "metadata": {},
   "source": [
    "### K Nearest Neighbors"
   ]
  },
  {
   "cell_type": "code",
   "execution_count": 33,
   "metadata": {},
   "outputs": [],
   "source": [
    "def model_KNeighborsClassifier():\n",
    "    start_time = time.time()\n",
    "    # train test split\n",
    "    x_train, x_test, y_train, y_test = train_test_split(x,y)\n",
    "    # Training the model\n",
    "    clf = sklearn.neighbors.KNeighborsClassifier()   \n",
    "    clf.fit(x_train, y_train)\n",
    "    # Testing\n",
    "    y_pred = clf.predict(x_test)\n",
    "    return (accuracy_score(y_test,y_pred) * 100), (time.time() - start_time)"
   ]
  },
  {
   "cell_type": "markdown",
   "metadata": {},
   "source": [
    "## Summary of Observations"
   ]
  },
  {
   "cell_type": "code",
   "execution_count": 34,
   "metadata": {},
   "outputs": [
    {
     "data": {
      "text/html": [
       "<div>\n",
       "<style scoped>\n",
       "    .dataframe tbody tr th:only-of-type {\n",
       "        vertical-align: middle;\n",
       "    }\n",
       "\n",
       "    .dataframe tbody tr th {\n",
       "        vertical-align: top;\n",
       "    }\n",
       "\n",
       "    .dataframe thead th {\n",
       "        text-align: right;\n",
       "    }\n",
       "</style>\n",
       "<table border=\"1\" class=\"dataframe\">\n",
       "  <thead>\n",
       "    <tr style=\"text-align: right;\">\n",
       "      <th></th>\n",
       "      <th>Models</th>\n",
       "      <th>Accuracy</th>\n",
       "      <th>Timing</th>\n",
       "    </tr>\n",
       "  </thead>\n",
       "  <tbody>\n",
       "    <tr>\n",
       "      <th>0</th>\n",
       "      <td>BernoulliNB</td>\n",
       "      <td>87.406098</td>\n",
       "      <td>0.072840</td>\n",
       "    </tr>\n",
       "    <tr>\n",
       "      <th>1</th>\n",
       "      <td>RandomForestClassifier</td>\n",
       "      <td>85.274881</td>\n",
       "      <td>12.411051</td>\n",
       "    </tr>\n",
       "    <tr>\n",
       "      <th>2</th>\n",
       "      <td>DecisionTreeClassifier</td>\n",
       "      <td>77.868128</td>\n",
       "      <td>4.532441</td>\n",
       "    </tr>\n",
       "    <tr>\n",
       "      <th>3</th>\n",
       "      <td>SVM_Linear</td>\n",
       "      <td>88.456779</td>\n",
       "      <td>42.320557</td>\n",
       "    </tr>\n",
       "    <tr>\n",
       "      <th>4</th>\n",
       "      <td>LogisticRegression</td>\n",
       "      <td>87.625950</td>\n",
       "      <td>0.275372</td>\n",
       "    </tr>\n",
       "    <tr>\n",
       "      <th>5</th>\n",
       "      <td>KNeighborsClassifier</td>\n",
       "      <td>81.279830</td>\n",
       "      <td>5.072535</td>\n",
       "    </tr>\n",
       "  </tbody>\n",
       "</table>\n",
       "</div>"
      ],
      "text/plain": [
       "                   Models   Accuracy     Timing\n",
       "0             BernoulliNB  87.406098   0.072840\n",
       "1  RandomForestClassifier  85.274881  12.411051\n",
       "2  DecisionTreeClassifier  77.868128   4.532441\n",
       "3              SVM_Linear  88.456779  42.320557\n",
       "4      LogisticRegression  87.625950   0.275372\n",
       "5    KNeighborsClassifier  81.279830   5.072535"
      ]
     },
     "execution_count": 34,
     "metadata": {},
     "output_type": "execute_result"
    }
   ],
   "source": [
    "models = [model_BernoulliNB(), model_RandomForestClassifier(), DecisionTreeClassifier(), model_SVM_Linear(), model_LogisticRegression(), model_KNeighborsClassifier()]\n",
    "\n",
    "models_name = ['BernoulliNB','RandomForestClassifier', 'DecisionTreeClassifier', 'SVM_Linear', 'LogisticRegression','KNeighborsClassifier']\n",
    "\n",
    "accuracy = []\n",
    "timing = []\n",
    "for m in models:\n",
    "    acc, tim = m\n",
    "    accuracy.append(acc)\n",
    "    timing.append(tim)\n",
    "result = pd.DataFrame({'Models' : models_name, 'Accuracy' : accuracy, 'Timing' : timing})\n",
    "result"
   ]
  },
  {
   "cell_type": "code",
   "execution_count": 35,
   "metadata": {},
   "outputs": [
    {
     "data": {
      "image/png": "[encoded data removed]",
      "text/plain": [
       "<Figure size 1080x360 with 2 Axes>"
      ]
     },
     "metadata": {},
     "output_type": "display_data"
    }
   ],
   "source": [
    "# plotting Accuracy and Timings of all models\n",
    "f, axes = plt.subplots (1,2, figsize=(15,5))\n",
    "\n",
    "# Accuracy\n",
    "result.sort_values(by=['Accuracy'], ascending=False, inplace=True)\n",
    "result = result.reset_index()\n",
    "result.drop(['index'], axis=1,inplace=True)\n",
    "\n",
    "v1= sns.barplot(y='Accuracy' , x='Models', data=result,dodge=True, ax=axes[0],palette='magma',)\n",
    "v1.set(ylim=(75, 90))\n",
    "v1.set(xlabel='Models',ylabel='Accuracy')\n",
    "v1.set_xticklabels(v1.get_xticklabels(), rotation=45)\n",
    "v1.set_title('Accuracy of different Models')\n",
    "\n",
    "for index, row in result.iterrows():\n",
    "    v1.text(row.name,row.Accuracy, round(row.Accuracy,2), color='black', ha=\"center\")\n",
    "\n",
    "\n",
    "# Timing\n",
    "result.sort_values(by=['Timing'], ascending=False, inplace=True)\n",
    "result = result.reset_index()\n",
    "result.drop(['index'], axis=1,inplace=True)\n",
    "\n",
    "v2= sns.barplot(y='Timing' , x='Models', data=result,dodge=True, ax=axes[1],palette='rocket',)\n",
    "v2.set(ylim=(0, 500))\n",
    "v2.set(xlabel='Models',ylabel='Runtime in seconds')\n",
    "v2.set_xticklabels(v2.get_xticklabels(), rotation=45)\n",
    "v2.set_title('Runtime(seconds) of different Models')\n",
    "\n",
    "for index, row in result.iterrows():\n",
    "    v2.text(row.name,row.Timing, round(row.Timing,2), color='black', ha=\"center\")\n",
    "\n",
    "plt.ioff()"
   ]
  },
  {
   "cell_type": "markdown",
   "metadata": {},
   "source": [
    "### Inference after applying NLP\n",
    "\n",
    "**On selecting the test_size= 0.20 & max_features= 4000, we get the following accuracy score in different classification models:**\n",
    "\n",
    "* naive_bayes.BernoulliNB = 87.4 %\n",
    "* RandomForestClassifier = 85.0 %\n",
    "* tree.DecisionTreeClassifier = 77.8 %\n",
    "* support vector machine svm.SVC(kernel='linear') = 88.4 %\n",
    "* linear_model.LogisticRegression = 87.2 %\n",
    "* sklearn.neighbors.KNeighborsClassifier = 81.0%\n",
    "\n",
    "**It is seen that support vector machine svm.SVC(kernel='linear') model predicts the test set with most accuracy.**"
   ]
  }
 ],
 "metadata": {
  "kernelspec": {
   "display_name": "Python 3",
   "language": "python",
   "name": "python3"
  },
  "language_info": {
   "codemirror_mode": {
    "name": "ipython",
    "version": 3
   },
   "file_extension": ".py",
   "mimetype": "text/x-python",
   "name": "python",
   "nbconvert_exporter": "python",
   "pygments_lexer": "ipython3",
   "version": "3.7.3"
  }
 },
 "nbformat": 4,
 "nbformat_minor": 4
}
